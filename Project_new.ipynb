{
  "nbformat": 4,
  "nbformat_minor": 0,
  "metadata": {
    "colab": {
      "provenance": [],
      "authorship_tag": "ABX9TyNQDuwIBEelmqB4AkCOFqLN",
      "include_colab_link": true
    },
    "kernelspec": {
      "name": "python3",
      "display_name": "Python 3"
    },
    "language_info": {
      "name": "python"
    }
  },
  "cells": [
    {
      "cell_type": "markdown",
      "metadata": {
        "id": "view-in-github",
        "colab_type": "text"
      },
      "source": [
        "<a href=\"https://colab.research.google.com/github/baizhankyzy/female-directors/blob/main/Project_new.ipynb\" target=\"_parent\"><img src=\"https://colab.research.google.com/assets/colab-badge.svg\" alt=\"Open In Colab\"/></a>"
      ]
    },
    {
      "cell_type": "code",
      "source": [],
      "metadata": {
        "id": "GI2WDBo_oUcl"
      },
      "execution_count": null,
      "outputs": []
    },
    {
      "cell_type": "code",
      "source": [
        "!pip install rdflib\n"
      ],
      "metadata": {
        "colab": {
          "base_uri": "https://localhost:8080/"
        },
        "id": "BwldKDWZosnV",
        "outputId": "7e05e360-a69f-48a5-a3e3-b293d9ae4c98"
      },
      "execution_count": 1,
      "outputs": [
        {
          "output_type": "stream",
          "name": "stdout",
          "text": [
            "Requirement already satisfied: rdflib in /usr/local/lib/python3.10/dist-packages (7.1.1)\n",
            "Requirement already satisfied: isodate<1.0.0,>=0.7.2 in /usr/local/lib/python3.10/dist-packages (from rdflib) (0.7.2)\n",
            "Requirement already satisfied: pyparsing<4,>=2.1.0 in /usr/local/lib/python3.10/dist-packages (from rdflib) (3.2.0)\n"
          ]
        }
      ]
    },
    {
      "cell_type": "markdown",
      "source": [
        "RDF GRaph"
      ],
      "metadata": {
        "id": "EF5WuA5uoJba"
      }
    },
    {
      "cell_type": "code",
      "execution_count": 3,
      "metadata": {
        "id": "FrWTxl4YoFjM",
        "colab": {
          "base_uri": "https://localhost:8080/",
          "height": 71
        },
        "outputId": "4e1c0cdd-4bf8-4899-cae6-60680005f3fb"
      },
      "outputs": [
        {
          "output_type": "stream",
          "name": "stderr",
          "text": [
            "<ipython-input-3-cf22387c4fd7>:13: DeprecationWarning: ConjunctiveGraph is deprecated, use Dataset instead.\n",
            "  g = ConjunctiveGraph()\n"
          ]
        },
        {
          "output_type": "display_data",
          "data": {
            "text/plain": [
              "<IPython.core.display.Javascript object>"
            ],
            "application/javascript": [
              "\n",
              "    async function download(id, filename, size) {\n",
              "      if (!google.colab.kernel.accessAllowed) {\n",
              "        return;\n",
              "      }\n",
              "      const div = document.createElement('div');\n",
              "      const label = document.createElement('label');\n",
              "      label.textContent = `Downloading \"${filename}\": `;\n",
              "      div.appendChild(label);\n",
              "      const progress = document.createElement('progress');\n",
              "      progress.max = size;\n",
              "      div.appendChild(progress);\n",
              "      document.body.appendChild(div);\n",
              "\n",
              "      const buffers = [];\n",
              "      let downloaded = 0;\n",
              "\n",
              "      const channel = await google.colab.kernel.comms.open(id);\n",
              "      // Send a message to notify the kernel that we're ready.\n",
              "      channel.send({})\n",
              "\n",
              "      for await (const message of channel.messages) {\n",
              "        // Send a message to notify the kernel that we're ready.\n",
              "        channel.send({})\n",
              "        if (message.buffers) {\n",
              "          for (const buffer of message.buffers) {\n",
              "            buffers.push(buffer);\n",
              "            downloaded += buffer.byteLength;\n",
              "            progress.value = downloaded;\n",
              "          }\n",
              "        }\n",
              "      }\n",
              "      const blob = new Blob(buffers, {type: 'application/binary'});\n",
              "      const a = document.createElement('a');\n",
              "      a.href = window.URL.createObjectURL(blob);\n",
              "      a.download = filename;\n",
              "      div.appendChild(a);\n",
              "      a.click();\n",
              "      div.remove();\n",
              "    }\n",
              "  "
            ]
          },
          "metadata": {}
        },
        {
          "output_type": "display_data",
          "data": {
            "text/plain": [
              "<IPython.core.display.Javascript object>"
            ],
            "application/javascript": [
              "download(\"download_786279cb-d9ed-4f4d-9218-8c13c3c261c6\", \"director_graph.nq\", 19346159)"
            ]
          },
          "metadata": {}
        },
        {
          "output_type": "stream",
          "name": "stdout",
          "text": [
            "Data saved as director_graph.nq and ready for download.\n"
          ]
        }
      ],
      "source": [
        "from rdflib import ConjunctiveGraph, URIRef, Literal, Namespace\n",
        "from rdflib.namespace import RDF, RDFS\n",
        "from urllib.parse import quote\n",
        "import requests\n",
        "from google.colab import files\n",
        "\n",
        "# Fetch the JSON data\n",
        "url = \"https://raw.githubusercontent.com/baizhankyzy/female-directors/refs/heads/main/dataset_final.json\"\n",
        "response = requests.get(url)\n",
        "data = response.json()['results']['bindings']\n",
        "\n",
        "# Initialize the graph\n",
        "g = ConjunctiveGraph()\n",
        "\n",
        "# Define namespaces\n",
        "wd = Namespace(\"http://www.wikidata.org/entity/\")\n",
        "wdt = Namespace(\"http://www.wikidata.org/prop/direct/\")\n",
        "wikidata = Namespace(\"http://www.wikidata.org/\")\n",
        "\n",
        "# Add data to the graph\n",
        "for item in data:\n",
        "    film = URIRef(item['film']['value'])\n",
        "    director = URIRef(item['director']['value'])\n",
        "    release_year = Literal(item['releaseYear']['value'], datatype=RDFS.Literal)\n",
        "    film_label = Literal(item['filmLabel']['value'], lang='en')\n",
        "    director_label = Literal(item['directorLabel']['value'], lang='en')\n",
        "\n",
        "    genre_label = item.get('genreLabel', {}).get('value', \"Unknown Genre\")\n",
        "    genre_uri = URIRef(f\"http://www.wikidata.org/genre/{quote(genre_label)}\")\n",
        "\n",
        "    country_label = item.get('countryLabel', {}).get('value', \"Unknown Country\")\n",
        "    country_uri = URIRef(f\"http://www.wikidata.org/country/{quote(country_label)}\")\n",
        "\n",
        "    # Avoid blank nodes by always ensuring explicit URIs or Literals\n",
        "    if isinstance(film, URIRef) and isinstance(director, URIRef):\n",
        "        # Add RDF triples\n",
        "        g.add((film, wdt.P31, wd.Q11424))  # Film type\n",
        "        g.add((film, RDFS.label, film_label))\n",
        "        g.add((film, wdt.P57, director))\n",
        "        g.add((film, wdt.P577, release_year))\n",
        "        g.add((film, wdt.P136, genre_uri))\n",
        "        g.add((film, wdt.P19, country_uri))\n",
        "        g.add((director, RDFS.label, director_label))\n",
        "        g.add((genre_uri, RDFS.label, Literal(genre_label, lang='en')))\n",
        "        g.add((country_uri, RDFS.label, Literal(country_label, lang='en')))\n",
        "\n",
        "# Serialize the graph\n",
        "output_file = \"director_graph.nq\"\n",
        "g.serialize(output_file, format=\"nquads\")\n",
        "\n",
        "# Download the fixed file\n",
        "files.download(output_file)\n",
        "print(f\"Data saved as {output_file} and ready for download.\")"
      ]
    },
    {
      "cell_type": "markdown",
      "source": [
        "# Loading the graph"
      ],
      "metadata": {
        "id": "qfdssEQfprEe"
      }
    },
    {
      "cell_type": "code",
      "source": [
        "g = ConjunctiveGraph()\n",
        "g.parse(\"director_graph.nq\", format=\"nquads\")"
      ],
      "metadata": {
        "colab": {
          "base_uri": "https://localhost:8080/"
        },
        "id": "-U5RLYN5p1sB",
        "outputId": "3e711d39-47c7-4000-ee3a-de4199c6c7e9"
      },
      "execution_count": 4,
      "outputs": [
        {
          "output_type": "stream",
          "name": "stderr",
          "text": [
            "<ipython-input-4-e47e8000648d>:1: DeprecationWarning: ConjunctiveGraph is deprecated, use Dataset instead.\n",
            "  g = ConjunctiveGraph()\n"
          ]
        },
        {
          "output_type": "execute_result",
          "data": {
            "text/plain": [
              "<Graph identifier=N78fba5f7ba804003b77950bc7dd4ae0b (<class 'rdflib.graph.Graph'>)>"
            ]
          },
          "metadata": {},
          "execution_count": 4
        }
      ]
    },
    {
      "cell_type": "markdown",
      "source": [
        "## Research questions\n",
        "### How has the number of women directors in feature films changed over the last 30 years, including fluctuations during specific periods and potential external factors such as societal events or industry shifts?\n",
        "\n",
        "\n"
      ],
      "metadata": {
        "id": "Bwq1Lc14LTvE"
      }
    },
    {
      "cell_type": "code",
      "source": [
        "# Iterate through each year from 1994 to 2024 and count films\n",
        "print(\"Year\\tNumber of Films\")\n",
        "for year in range(1994, 2025):\n",
        "    # Construct the query dynamically for each year\n",
        "    query = f\"\"\"\n",
        "    SELECT (COUNT(?film) AS ?film_count)\n",
        "    WHERE {{\n",
        "      ?film <http://www.wikidata.org/prop/direct/P31> <http://www.wikidata.org/entity/Q11424> .\n",
        "      ?film <http://www.wikidata.org/prop/direct/P577> \"{year}\"^^<http://www.w3.org/2000/01/rdf-schema#Literal> .\n",
        "    }}\n",
        "    \"\"\"\n",
        "\n",
        "    # Execute the query\n",
        "    results = g.query(query)\n",
        "\n",
        "    # Print the result for the current year\n",
        "    for row in results:\n",
        "        print(f\"{year}\\t{row['film_count']}\")"
      ],
      "metadata": {
        "colab": {
          "base_uri": "https://localhost:8080/"
        },
        "id": "dinBrbuOLY9x",
        "outputId": "83d19cb0-fc31-461a-d486-ab653a459492"
      },
      "execution_count": 24,
      "outputs": [
        {
          "output_type": "stream",
          "name": "stdout",
          "text": [
            "Year\tNumber of Films\n",
            "1994\t224\n",
            "1995\t247\n",
            "1996\t242\n",
            "1997\t255\n",
            "1998\t292\n",
            "1999\t305\n",
            "2000\t313\n",
            "2001\t364\n",
            "2002\t371\n",
            "2003\t389\n",
            "2004\t438\n",
            "2005\t502\n",
            "2006\t553\n",
            "2007\t586\n",
            "2008\t620\n",
            "2009\t697\n",
            "2010\t614\n",
            "2011\t707\n",
            "2012\t773\n",
            "2013\t827\n",
            "2014\t824\n",
            "2015\t844\n",
            "2016\t1448\n",
            "2017\t897\n",
            "2018\t886\n",
            "2019\t865\n",
            "2020\t627\n",
            "2021\t712\n",
            "2022\t788\n",
            "2023\t706\n",
            "2024\t468\n"
          ]
        }
      ]
    },
    {
      "cell_type": "markdown",
      "source": [
        "2nd research question"
      ],
      "metadata": {
        "id": "cGiE8jf-xGGh"
      }
    }
  ]
}