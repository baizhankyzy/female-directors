{
  "nbformat": 4,
  "nbformat_minor": 0,
  "metadata": {
    "colab": {
      "provenance": [],
      "include_colab_link": true
    },
    "kernelspec": {
      "name": "python3",
      "display_name": "Python 3"
    },
    "language_info": {
      "name": "python"
    }
  },
  "cells": [
    {
      "cell_type": "markdown",
      "metadata": {
        "id": "view-in-github",
        "colab_type": "text"
      },
      "source": [
        "<a href=\"https://colab.research.google.com/github/baizhankyzy/female-directors/blob/main/Project_new.ipynb\" target=\"_parent\"><img src=\"https://colab.research.google.com/assets/colab-badge.svg\" alt=\"Open In Colab\"/></a>"
      ]
    },
    {
      "cell_type": "code",
      "source": [],
      "metadata": {
        "id": "GI2WDBo_oUcl"
      },
      "execution_count": null,
      "outputs": []
    },
    {
      "cell_type": "code",
      "source": [
        "!pip install rdflib\n"
      ],
      "metadata": {
        "colab": {
          "base_uri": "https://localhost:8080/"
        },
        "id": "BwldKDWZosnV",
        "outputId": "18298407-aa9c-4694-fcf7-b17f003e44c9"
      },
      "execution_count": 1,
      "outputs": [
        {
          "output_type": "stream",
          "name": "stdout",
          "text": [
            "Collecting rdflib\n",
            "  Downloading rdflib-7.1.1-py3-none-any.whl.metadata (11 kB)\n",
            "Collecting isodate<1.0.0,>=0.7.2 (from rdflib)\n",
            "  Downloading isodate-0.7.2-py3-none-any.whl.metadata (11 kB)\n",
            "Requirement already satisfied: pyparsing<4,>=2.1.0 in /usr/local/lib/python3.10/dist-packages (from rdflib) (3.2.0)\n",
            "Downloading rdflib-7.1.1-py3-none-any.whl (562 kB)\n",
            "\u001b[2K   \u001b[90m━━━━━━━━━━━━━━━━━━━━━━━━━━━━━━━━━━━━━━━━\u001b[0m \u001b[32m562.4/562.4 kB\u001b[0m \u001b[31m9.1 MB/s\u001b[0m eta \u001b[36m0:00:00\u001b[0m\n",
            "\u001b[?25hDownloading isodate-0.7.2-py3-none-any.whl (22 kB)\n",
            "Installing collected packages: isodate, rdflib\n",
            "Successfully installed isodate-0.7.2 rdflib-7.1.1\n"
          ]
        }
      ]
    },
    {
      "cell_type": "markdown",
      "source": [
        "RDF GRaph"
      ],
      "metadata": {
        "id": "EF5WuA5uoJba"
      }
    },
    {
      "cell_type": "code",
      "execution_count": null,
      "metadata": {
        "id": "FrWTxl4YoFjM",
        "colab": {
          "base_uri": "https://localhost:8080/",
          "height": 71
        },
        "outputId": "4e1c0cdd-4bf8-4899-cae6-60680005f3fb"
      },
      "outputs": [
        {
          "output_type": "stream",
          "name": "stderr",
          "text": [
            "<ipython-input-3-cf22387c4fd7>:13: DeprecationWarning: ConjunctiveGraph is deprecated, use Dataset instead.\n",
            "  g = ConjunctiveGraph()\n"
          ]
        },
        {
          "output_type": "display_data",
          "data": {
            "text/plain": [
              "<IPython.core.display.Javascript object>"
            ],
            "application/javascript": [
              "\n",
              "    async function download(id, filename, size) {\n",
              "      if (!google.colab.kernel.accessAllowed) {\n",
              "        return;\n",
              "      }\n",
              "      const div = document.createElement('div');\n",
              "      const label = document.createElement('label');\n",
              "      label.textContent = `Downloading \"${filename}\": `;\n",
              "      div.appendChild(label);\n",
              "      const progress = document.createElement('progress');\n",
              "      progress.max = size;\n",
              "      div.appendChild(progress);\n",
              "      document.body.appendChild(div);\n",
              "\n",
              "      const buffers = [];\n",
              "      let downloaded = 0;\n",
              "\n",
              "      const channel = await google.colab.kernel.comms.open(id);\n",
              "      // Send a message to notify the kernel that we're ready.\n",
              "      channel.send({})\n",
              "\n",
              "      for await (const message of channel.messages) {\n",
              "        // Send a message to notify the kernel that we're ready.\n",
              "        channel.send({})\n",
              "        if (message.buffers) {\n",
              "          for (const buffer of message.buffers) {\n",
              "            buffers.push(buffer);\n",
              "            downloaded += buffer.byteLength;\n",
              "            progress.value = downloaded;\n",
              "          }\n",
              "        }\n",
              "      }\n",
              "      const blob = new Blob(buffers, {type: 'application/binary'});\n",
              "      const a = document.createElement('a');\n",
              "      a.href = window.URL.createObjectURL(blob);\n",
              "      a.download = filename;\n",
              "      div.appendChild(a);\n",
              "      a.click();\n",
              "      div.remove();\n",
              "    }\n",
              "  "
            ]
          },
          "metadata": {}
        },
        {
          "output_type": "display_data",
          "data": {
            "text/plain": [
              "<IPython.core.display.Javascript object>"
            ],
            "application/javascript": [
              "download(\"download_786279cb-d9ed-4f4d-9218-8c13c3c261c6\", \"director_graph.nq\", 19346159)"
            ]
          },
          "metadata": {}
        },
        {
          "output_type": "stream",
          "name": "stdout",
          "text": [
            "Data saved as director_graph.nq and ready for download.\n"
          ]
        }
      ],
      "source": [
        "from rdflib import ConjunctiveGraph, URIRef, Literal, Namespace\n",
        "from rdflib.namespace import RDF, RDFS\n",
        "from urllib.parse import quote\n",
        "import requests\n",
        "from google.colab import files\n",
        "\n",
        "# Fetch the JSON data\n",
        "url = \"https://raw.githubusercontent.com/baizhankyzy/female-directors/refs/heads/main/dataset_final.json\"\n",
        "response = requests.get(url)\n",
        "data = response.json()['results']['bindings']\n",
        "\n",
        "# Initialize the graph\n",
        "g = ConjunctiveGraph()\n",
        "\n",
        "# Define namespaces\n",
        "wd = Namespace(\"http://www.wikidata.org/entity/\")\n",
        "wdt = Namespace(\"http://www.wikidata.org/prop/direct/\")\n",
        "wikidata = Namespace(\"http://www.wikidata.org/\")\n",
        "\n",
        "# Add data to the graph\n",
        "for item in data:\n",
        "    film = URIRef(item['film']['value'])\n",
        "    director = URIRef(item['director']['value'])\n",
        "    release_year = Literal(item['releaseYear']['value'], datatype=RDFS.Literal)\n",
        "    film_label = Literal(item['filmLabel']['value'], lang='en')\n",
        "    director_label = Literal(item['directorLabel']['value'], lang='en')\n",
        "\n",
        "    genre_label = item.get('genreLabel', {}).get('value', \"Unknown Genre\")\n",
        "    genre_uri = URIRef(f\"http://www.wikidata.org/genre/{quote(genre_label)}\")\n",
        "\n",
        "    country_label = item.get('countryLabel', {}).get('value', \"Unknown Country\")\n",
        "    country_uri = URIRef(f\"http://www.wikidata.org/country/{quote(country_label)}\")\n",
        "\n",
        "    # Avoid blank nodes by always ensuring explicit URIs or Literals\n",
        "    if isinstance(film, URIRef) and isinstance(director, URIRef):\n",
        "        # Add RDF triples\n",
        "        g.add((film, wdt.P31, wd.Q11424))  # Film type\n",
        "        g.add((film, RDFS.label, film_label))\n",
        "        g.add((film, wdt.P57, director))\n",
        "        g.add((film, wdt.P577, release_year))\n",
        "        g.add((film, wdt.P136, genre_uri))\n",
        "        g.add((film, wdt.P19, country_uri))\n",
        "        g.add((director, RDFS.label, director_label))\n",
        "        g.add((genre_uri, RDFS.label, Literal(genre_label, lang='en')))\n",
        "        g.add((country_uri, RDFS.label, Literal(country_label, lang='en')))\n",
        "\n",
        "# Serialize the graph\n",
        "output_file = \"director_graph.nq\"\n",
        "g.serialize(output_file, format=\"nquads\")\n",
        "\n",
        "# Download the fixed file\n",
        "files.download(output_file)\n",
        "print(f\"Data saved as {output_file} and ready for download.\")"
      ]
    },
    {
      "cell_type": "markdown",
      "source": [
        "# Loading the graph"
      ],
      "metadata": {
        "id": "qfdssEQfprEe"
      }
    },
    {
      "cell_type": "code",
      "source": [
        "from rdflib import ConjunctiveGraph, URIRef, Literal, Namespace\n",
        "from rdflib.namespace import RDF, RDFS\n",
        "from urllib.parse import quote\n",
        "import requests\n",
        "from google.colab import files\n",
        "\n",
        "g = ConjunctiveGraph()\n",
        "g.parse(\"director_graph.nq\", format=\"nquads\")"
      ],
      "metadata": {
        "colab": {
          "base_uri": "https://localhost:8080/",
          "height": 350
        },
        "id": "-U5RLYN5p1sB",
        "outputId": "69805c46-7522-42e4-a1aa-d126f603e85d"
      },
      "execution_count": 3,
      "outputs": [
        {
          "output_type": "stream",
          "name": "stderr",
          "text": [
            "<ipython-input-3-a9c862614dd6>:7: DeprecationWarning: ConjunctiveGraph is deprecated, use Dataset instead.\n",
            "  g = ConjunctiveGraph()\n"
          ]
        },
        {
          "output_type": "error",
          "ename": "FileNotFoundError",
          "evalue": "[Errno 2] No such file or directory: '/director_graph.nq'",
          "traceback": [
            "\u001b[0;31m---------------------------------------------------------------------------\u001b[0m",
            "\u001b[0;31mFileNotFoundError\u001b[0m                         Traceback (most recent call last)",
            "\u001b[0;32m<ipython-input-3-a9c862614dd6>\u001b[0m in \u001b[0;36m<cell line: 8>\u001b[0;34m()\u001b[0m\n\u001b[1;32m      6\u001b[0m \u001b[0;34m\u001b[0m\u001b[0m\n\u001b[1;32m      7\u001b[0m \u001b[0mg\u001b[0m \u001b[0;34m=\u001b[0m \u001b[0mConjunctiveGraph\u001b[0m\u001b[0;34m(\u001b[0m\u001b[0;34m)\u001b[0m\u001b[0;34m\u001b[0m\u001b[0;34m\u001b[0m\u001b[0m\n\u001b[0;32m----> 8\u001b[0;31m \u001b[0mg\u001b[0m\u001b[0;34m.\u001b[0m\u001b[0mparse\u001b[0m\u001b[0;34m(\u001b[0m\u001b[0;34m\"director_graph.nq\"\u001b[0m\u001b[0;34m,\u001b[0m \u001b[0mformat\u001b[0m\u001b[0;34m=\u001b[0m\u001b[0;34m\"nquads\"\u001b[0m\u001b[0;34m)\u001b[0m\u001b[0;34m\u001b[0m\u001b[0;34m\u001b[0m\u001b[0m\n\u001b[0m",
            "\u001b[0;32m/usr/local/lib/python3.10/dist-packages/rdflib/graph.py\u001b[0m in \u001b[0;36mparse\u001b[0;34m(self, source, publicID, format, location, file, data, **args)\u001b[0m\n\u001b[1;32m   2267\u001b[0m         \"\"\"\n\u001b[1;32m   2268\u001b[0m \u001b[0;34m\u001b[0m\u001b[0m\n\u001b[0;32m-> 2269\u001b[0;31m         source = create_input_source(\n\u001b[0m\u001b[1;32m   2270\u001b[0m             \u001b[0msource\u001b[0m\u001b[0;34m=\u001b[0m\u001b[0msource\u001b[0m\u001b[0;34m,\u001b[0m\u001b[0;34m\u001b[0m\u001b[0;34m\u001b[0m\u001b[0m\n\u001b[1;32m   2271\u001b[0m             \u001b[0mpublicID\u001b[0m\u001b[0;34m=\u001b[0m\u001b[0mpublicID\u001b[0m\u001b[0;34m,\u001b[0m\u001b[0;34m\u001b[0m\u001b[0;34m\u001b[0m\u001b[0m\n",
            "\u001b[0;32m/usr/local/lib/python3.10/dist-packages/rdflib/parser.py\u001b[0m in \u001b[0;36mcreate_input_source\u001b[0;34m(source, publicID, location, file, data, format)\u001b[0m\n\u001b[1;32m    733\u001b[0m             \u001b[0mfile\u001b[0m\u001b[0;34m,\u001b[0m\u001b[0;34m\u001b[0m\u001b[0;34m\u001b[0m\u001b[0m\n\u001b[1;32m    734\u001b[0m             \u001b[0minput_source\u001b[0m\u001b[0;34m,\u001b[0m\u001b[0;34m\u001b[0m\u001b[0;34m\u001b[0m\u001b[0m\n\u001b[0;32m--> 735\u001b[0;31m         \u001b[0;34m)\u001b[0m \u001b[0;34m=\u001b[0m \u001b[0m_create_input_source_from_location\u001b[0m\u001b[0;34m(\u001b[0m\u001b[0;34m\u001b[0m\u001b[0;34m\u001b[0m\u001b[0m\n\u001b[0m\u001b[1;32m    736\u001b[0m             \u001b[0mfile\u001b[0m\u001b[0;34m=\u001b[0m\u001b[0mfile\u001b[0m\u001b[0;34m,\u001b[0m\u001b[0;34m\u001b[0m\u001b[0;34m\u001b[0m\u001b[0m\n\u001b[1;32m    737\u001b[0m             \u001b[0mformat\u001b[0m\u001b[0;34m=\u001b[0m\u001b[0mformat\u001b[0m\u001b[0;34m,\u001b[0m\u001b[0;34m\u001b[0m\u001b[0;34m\u001b[0m\u001b[0m\n",
            "\u001b[0;32m/usr/local/lib/python3.10/dist-packages/rdflib/parser.py\u001b[0m in \u001b[0;36m_create_input_source_from_location\u001b[0;34m(file, format, input_source, location)\u001b[0m\n\u001b[1;32m    793\u001b[0m     \u001b[0;32mif\u001b[0m \u001b[0mabsolute_location\u001b[0m\u001b[0;34m.\u001b[0m\u001b[0mstartswith\u001b[0m\u001b[0;34m(\u001b[0m\u001b[0;34m\"file:///\"\u001b[0m\u001b[0;34m)\u001b[0m\u001b[0;34m:\u001b[0m\u001b[0;34m\u001b[0m\u001b[0;34m\u001b[0m\u001b[0m\n\u001b[1;32m    794\u001b[0m         \u001b[0mfilename\u001b[0m \u001b[0;34m=\u001b[0m \u001b[0murl2pathname\u001b[0m\u001b[0;34m(\u001b[0m\u001b[0mabsolute_location\u001b[0m\u001b[0;34m.\u001b[0m\u001b[0mreplace\u001b[0m\u001b[0;34m(\u001b[0m\u001b[0;34m\"file:///\"\u001b[0m\u001b[0;34m,\u001b[0m \u001b[0;34m\"/\"\u001b[0m\u001b[0;34m)\u001b[0m\u001b[0;34m)\u001b[0m\u001b[0;34m\u001b[0m\u001b[0;34m\u001b[0m\u001b[0m\n\u001b[0;32m--> 795\u001b[0;31m         \u001b[0mfile\u001b[0m \u001b[0;34m=\u001b[0m \u001b[0mopen\u001b[0m\u001b[0;34m(\u001b[0m\u001b[0mfilename\u001b[0m\u001b[0;34m,\u001b[0m \u001b[0;34m\"rb\"\u001b[0m\u001b[0;34m)\u001b[0m\u001b[0;34m\u001b[0m\u001b[0;34m\u001b[0m\u001b[0m\n\u001b[0m\u001b[1;32m    796\u001b[0m     \u001b[0;32melse\u001b[0m\u001b[0;34m:\u001b[0m\u001b[0;34m\u001b[0m\u001b[0;34m\u001b[0m\u001b[0m\n\u001b[1;32m    797\u001b[0m         \u001b[0minput_source\u001b[0m \u001b[0;34m=\u001b[0m \u001b[0mURLInputSource\u001b[0m\u001b[0;34m(\u001b[0m\u001b[0mabsolute_location\u001b[0m\u001b[0;34m,\u001b[0m \u001b[0mformat\u001b[0m\u001b[0;34m)\u001b[0m\u001b[0;34m\u001b[0m\u001b[0;34m\u001b[0m\u001b[0m\n",
            "\u001b[0;31mFileNotFoundError\u001b[0m: [Errno 2] No such file or directory: '/director_graph.nq'"
          ]
        }
      ]
    },
    {
      "cell_type": "markdown",
      "source": [
        "Download graph from github to Google Colab"
      ],
      "metadata": {
        "id": "63NV5yHtdjfz"
      }
    },
    {
      "cell_type": "code",
      "source": [
        "from rdflib import ConjunctiveGraph, URIRef, Literal, Namespace\n",
        "from rdflib.namespace import RDF, RDFS\n",
        "import requests\n",
        "\n",
        "# GitHub raw URL for the .nq file\n",
        "github_raw_url = \"https://raw.githubusercontent.com/baizhankyzy/female-directors/refs/heads/main/director_graph.nq\"\n",
        "\n",
        "# Download the nquads file from GitHub\n",
        "nquads_file = \"director_graph.nq\"\n",
        "response = requests.get(github_raw_url)\n",
        "\n",
        "if response.status_code == 200:\n",
        "    with open(nquads_file, 'wb') as file:\n",
        "        file.write(response.content)\n",
        "    print(f\"File {nquads_file} downloaded successfully.\")\n",
        "else:\n",
        "    print(f\"Failed to download file: {response.status_code}\")\n",
        "    response.raise_for_status()\n",
        "\n",
        "# Load the graph\n",
        "g = ConjunctiveGraph()\n",
        "try:\n",
        "    g.parse(nquads_file, format=\"nquads\")\n",
        "    print(\"Graph loaded successfully.\")\n",
        "except Exception as e:\n",
        "    print(f\"Error loading graph: {e}\")\n",
        "\n",
        "# Now you can query the graph\n"
      ],
      "metadata": {
        "colab": {
          "base_uri": "https://localhost:8080/"
        },
        "id": "6cJf4Jfsdq9J",
        "outputId": "4d5ad133-a17d-4c6d-c5f1-1fbac01c4045"
      },
      "execution_count": 4,
      "outputs": [
        {
          "output_type": "stream",
          "name": "stdout",
          "text": [
            "File director_graph.nq downloaded successfully.\n"
          ]
        },
        {
          "output_type": "stream",
          "name": "stderr",
          "text": [
            "<ipython-input-4-b724055496a0>:21: DeprecationWarning: ConjunctiveGraph is deprecated, use Dataset instead.\n",
            "  g = ConjunctiveGraph()\n"
          ]
        },
        {
          "output_type": "stream",
          "name": "stdout",
          "text": [
            "Graph loaded successfully.\n"
          ]
        }
      ]
    },
    {
      "cell_type": "markdown",
      "source": [
        "## Research questions\n",
        "### How has the number of women directors in feature films changed over the last 30 years, including fluctuations during specific periods and potential external factors such as societal events or industry shifts?\n",
        "\n",
        "\n"
      ],
      "metadata": {
        "id": "Bwq1Lc14LTvE"
      }
    },
    {
      "cell_type": "code",
      "source": [
        "# Iterate through each year from 1994 to 2024 and count films\n",
        "print(\"Year\\tNumber of Films\")\n",
        "for year in range(1994, 2025):\n",
        "    # Construct the query dynamically for each year\n",
        "    query = f\"\"\"\n",
        "    SELECT (COUNT(?film) AS ?film_count)\n",
        "    WHERE {{\n",
        "      ?film <http://www.wikidata.org/prop/direct/P31> <http://www.wikidata.org/entity/Q11424> .\n",
        "      ?film <http://www.wikidata.org/prop/direct/P577> \"{year}\"^^<http://www.w3.org/2000/01/rdf-schema#Literal> .\n",
        "    }}\n",
        "    \"\"\"\n",
        "\n",
        "    # Execute the query\n",
        "    results = g.query(query)\n",
        "\n",
        "    # Print the result for the current year\n",
        "    for row in results:\n",
        "        print(f\"{year}\\t{row['film_count']}\")"
      ],
      "metadata": {
        "colab": {
          "base_uri": "https://localhost:8080/"
        },
        "id": "dinBrbuOLY9x",
        "outputId": "3ac470ae-01c6-40c1-ee43-f3e22b3e0361"
      },
      "execution_count": 5,
      "outputs": [
        {
          "output_type": "stream",
          "name": "stdout",
          "text": [
            "Year\tNumber of Films\n",
            "1994\t224\n",
            "1995\t247\n",
            "1996\t242\n",
            "1997\t255\n",
            "1998\t292\n",
            "1999\t305\n",
            "2000\t313\n",
            "2001\t364\n",
            "2002\t371\n",
            "2003\t389\n",
            "2004\t438\n",
            "2005\t502\n",
            "2006\t553\n",
            "2007\t586\n",
            "2008\t620\n",
            "2009\t697\n",
            "2010\t614\n",
            "2011\t707\n",
            "2012\t773\n",
            "2013\t827\n",
            "2014\t824\n",
            "2015\t844\n",
            "2016\t1448\n",
            "2017\t897\n",
            "2018\t886\n",
            "2019\t865\n",
            "2020\t627\n",
            "2021\t712\n",
            "2022\t788\n",
            "2023\t706\n",
            "2024\t468\n"
          ]
        }
      ]
    },
    {
      "cell_type": "markdown",
      "source": [
        "## **2nd research question**"
      ],
      "metadata": {
        "id": "cGiE8jf-xGGh"
      }
    },
    {
      "cell_type": "markdown",
      "source": [
        "\n",
        "\n",
        "```\n",
        "# Which countries have the highest and lowest numbers of women directors in feature films?\n",
        "```\n",
        "\n"
      ],
      "metadata": {
        "id": "9_b-SXFXe5Ik"
      }
    },
    {
      "cell_type": "code",
      "source": [],
      "metadata": {
        "id": "mEu20hT2e57V"
      },
      "execution_count": null,
      "outputs": []
    }
  ]
}