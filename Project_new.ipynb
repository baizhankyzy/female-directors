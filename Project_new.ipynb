{
  "nbformat": 4,
  "nbformat_minor": 0,
  "metadata": {
    "colab": {
      "provenance": [],
      "authorship_tag": "ABX9TyPRWCntBudMCGdnji6R/LqZ",
      "include_colab_link": true
    },
    "kernelspec": {
      "name": "python3",
      "display_name": "Python 3"
    },
    "language_info": {
      "name": "python"
    }
  },
  "cells": [
    {
      "cell_type": "markdown",
      "metadata": {
        "id": "view-in-github",
        "colab_type": "text"
      },
      "source": [
        "<a href=\"https://colab.research.google.com/github/baizhankyzy/female-directors/blob/main/Project_new.ipynb\" target=\"_parent\"><img src=\"https://colab.research.google.com/assets/colab-badge.svg\" alt=\"Open In Colab\"/></a>"
      ]
    },
    {
      "cell_type": "code",
      "source": [],
      "metadata": {
        "id": "GI2WDBo_oUcl"
      },
      "execution_count": null,
      "outputs": []
    },
    {
      "cell_type": "code",
      "source": [
        "!pip install rdflib\n"
      ],
      "metadata": {
        "id": "BwldKDWZosnV",
        "outputId": "76855859-0147-489c-cb57-b1dc13c5bb9f",
        "colab": {
          "base_uri": "https://localhost:8080/"
        }
      },
      "execution_count": 5,
      "outputs": [
        {
          "output_type": "stream",
          "name": "stdout",
          "text": [
            "Collecting rdflib\n",
            "  Downloading rdflib-7.1.1-py3-none-any.whl.metadata (11 kB)\n",
            "Collecting isodate<1.0.0,>=0.7.2 (from rdflib)\n",
            "  Downloading isodate-0.7.2-py3-none-any.whl.metadata (11 kB)\n",
            "Requirement already satisfied: pyparsing<4,>=2.1.0 in /usr/local/lib/python3.10/dist-packages (from rdflib) (3.2.0)\n",
            "Downloading rdflib-7.1.1-py3-none-any.whl (562 kB)\n",
            "\u001b[?25l   \u001b[90m━━━━━━━━━━━━━━━━━━━━━━━━━━━━━━━━━━━━━━━━\u001b[0m \u001b[32m0.0/562.4 kB\u001b[0m \u001b[31m?\u001b[0m eta \u001b[36m-:--:--\u001b[0m\r\u001b[2K   \u001b[91m━━━━━━━━━━━━━━━━━━━\u001b[0m\u001b[91m╸\u001b[0m\u001b[90m━━━━━━━━━━━━━━━━━━━━\u001b[0m \u001b[32m276.5/562.4 kB\u001b[0m \u001b[31m8.0 MB/s\u001b[0m eta \u001b[36m0:00:01\u001b[0m\r\u001b[2K   \u001b[90m━━━━━━━━━━━━━━━━━━━━━━━━━━━━━━━━━━━━━━━━\u001b[0m \u001b[32m562.4/562.4 kB\u001b[0m \u001b[31m8.8 MB/s\u001b[0m eta \u001b[36m0:00:00\u001b[0m\n",
            "\u001b[?25hDownloading isodate-0.7.2-py3-none-any.whl (22 kB)\n",
            "Installing collected packages: isodate, rdflib\n",
            "Successfully installed isodate-0.7.2 rdflib-7.1.1\n"
          ]
        }
      ]
    },
    {
      "cell_type": "markdown",
      "source": [
        "RDF GRaph"
      ],
      "metadata": {
        "id": "EF5WuA5uoJba"
      }
    },
    {
      "cell_type": "code",
      "execution_count": 6,
      "metadata": {
        "id": "FrWTxl4YoFjM",
        "outputId": "556e1c2d-5e38-4255-bb89-96012eb80fce",
        "colab": {
          "base_uri": "https://localhost:8080/",
          "height": 71
        }
      },
      "outputs": [
        {
          "output_type": "stream",
          "name": "stderr",
          "text": [
            "<ipython-input-6-721e691f68dc>:13: DeprecationWarning: ConjunctiveGraph is deprecated, use Dataset instead.\n",
            "  g = ConjunctiveGraph()\n"
          ]
        },
        {
          "output_type": "display_data",
          "data": {
            "text/plain": [
              "<IPython.core.display.Javascript object>"
            ],
            "application/javascript": [
              "\n",
              "    async function download(id, filename, size) {\n",
              "      if (!google.colab.kernel.accessAllowed) {\n",
              "        return;\n",
              "      }\n",
              "      const div = document.createElement('div');\n",
              "      const label = document.createElement('label');\n",
              "      label.textContent = `Downloading \"${filename}\": `;\n",
              "      div.appendChild(label);\n",
              "      const progress = document.createElement('progress');\n",
              "      progress.max = size;\n",
              "      div.appendChild(progress);\n",
              "      document.body.appendChild(div);\n",
              "\n",
              "      const buffers = [];\n",
              "      let downloaded = 0;\n",
              "\n",
              "      const channel = await google.colab.kernel.comms.open(id);\n",
              "      // Send a message to notify the kernel that we're ready.\n",
              "      channel.send({})\n",
              "\n",
              "      for await (const message of channel.messages) {\n",
              "        // Send a message to notify the kernel that we're ready.\n",
              "        channel.send({})\n",
              "        if (message.buffers) {\n",
              "          for (const buffer of message.buffers) {\n",
              "            buffers.push(buffer);\n",
              "            downloaded += buffer.byteLength;\n",
              "            progress.value = downloaded;\n",
              "          }\n",
              "        }\n",
              "      }\n",
              "      const blob = new Blob(buffers, {type: 'application/binary'});\n",
              "      const a = document.createElement('a');\n",
              "      a.href = window.URL.createObjectURL(blob);\n",
              "      a.download = filename;\n",
              "      div.appendChild(a);\n",
              "      a.click();\n",
              "      div.remove();\n",
              "    }\n",
              "  "
            ]
          },
          "metadata": {}
        },
        {
          "output_type": "display_data",
          "data": {
            "text/plain": [
              "<IPython.core.display.Javascript object>"
            ],
            "application/javascript": [
              "download(\"download_3454af72-ddda-4dea-94a4-b4945d3ccefe\", \"output.nq\", 14892928)"
            ]
          },
          "metadata": {}
        },
        {
          "output_type": "stream",
          "name": "stdout",
          "text": [
            "Data saved as output.nq and ready for download.\n"
          ]
        }
      ],
      "source": [
        "from rdflib import ConjunctiveGraph, URIRef, Literal, Namespace\n",
        "from rdflib.namespace import RDF, RDFS\n",
        "from google.colab import files\n",
        "import requests\n",
        "from urllib.parse import quote\n",
        "\n",
        "# Fetch JSON data\n",
        "url = \"https://raw.githubusercontent.com/baizhankyzy/female-directors/refs/heads/main/finaldataset.json\"\n",
        "response = requests.get(url)\n",
        "data = response.json()['results']['bindings']  # Access the bindings list\n",
        "\n",
        "# Initialize a ConjunctiveGraph\n",
        "g = ConjunctiveGraph()\n",
        "\n",
        "# Define namespaces\n",
        "wd = Namespace(\"http://www.wikidata.org/entity/\")\n",
        "schema = Namespace(\"http://schema.org/\")\n",
        "\n",
        "# Add data to the graph\n",
        "for item in data:\n",
        "    # Extract relevant details\n",
        "    film = URIRef(item['film']['value'])\n",
        "    director = URIRef(item['director']['value'])\n",
        "    release_date = Literal(item['releaseDate']['value'])\n",
        "\n",
        "    # Encode genre and country to ensure valid URIs\n",
        "    genre = item.get('genreLabel', {}).get('value', \"Unknown Genre\")\n",
        "    genre_uri = URIRef(f\"http://example.org/genre/{quote(genre)}\")\n",
        "\n",
        "    country = item.get('countryLabel', {}).get('value', \"Unknown Country\")\n",
        "    country_uri = URIRef(f\"http://example.org/country/{quote(country)}\")\n",
        "\n",
        "    # Add RDF triples\n",
        "    g.add((film, RDF.type, wd.Q11424))  # Film type\n",
        "    g.add((film, schema.director, director))\n",
        "    g.add((film, schema.releaseDate, release_date))\n",
        "    g.add((film, schema.genre, genre_uri))\n",
        "    g.add((film, schema.countryOfOrigin, country_uri))\n",
        "    g.add((genre_uri, RDFS.label, Literal(genre)))\n",
        "    g.add((country_uri, RDFS.label, Literal(country)))\n",
        "\n",
        "# Serialize the graph to N-Quads format\n",
        "output_file = \"output.nq\"\n",
        "g.serialize(output_file, format=\"nquads\")\n",
        "\n",
        "# Download the N-Quads file in Google Colab\n",
        "files.download(output_file)\n",
        "print(f\"Data saved as {output_file} and ready for download.\")"
      ]
    },
    {
      "cell_type": "markdown",
      "source": [
        "Filter"
      ],
      "metadata": {
        "id": "qfdssEQfprEe"
      }
    },
    {
      "cell_type": "code",
      "source": [
        "for s, p, o in g:\n",
        "    print(s, p, o)"
      ],
      "metadata": {
        "id": "-U5RLYN5p1sB"
      },
      "execution_count": null,
      "outputs": []
    }
  ]
}