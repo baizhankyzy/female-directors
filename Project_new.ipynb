{
  "nbformat": 4,
  "nbformat_minor": 0,
  "metadata": {
    "colab": {
      "provenance": [],
      "authorship_tag": "ABX9TyNLlte9x9jkv664DQogcCg1",
      "include_colab_link": true
    },
    "kernelspec": {
      "name": "python3",
      "display_name": "Python 3"
    },
    "language_info": {
      "name": "python"
    }
  },
  "cells": [
    {
      "cell_type": "markdown",
      "metadata": {
        "id": "view-in-github",
        "colab_type": "text"
      },
      "source": [
        "<a href=\"https://colab.research.google.com/github/baizhankyzy/female-directors/blob/main/Project_new.ipynb\" target=\"_parent\"><img src=\"https://colab.research.google.com/assets/colab-badge.svg\" alt=\"Open In Colab\"/></a>"
      ]
    },
    {
      "cell_type": "code",
      "source": [],
      "metadata": {
        "id": "GI2WDBo_oUcl"
      },
      "execution_count": null,
      "outputs": []
    },
    {
      "cell_type": "code",
      "source": [
        "!pip install rdflib\n"
      ],
      "metadata": {
        "colab": {
          "base_uri": "https://localhost:8080/"
        },
        "id": "BwldKDWZosnV",
        "outputId": "8f95d7c6-39a2-4a85-b357-dac5e9f465e7"
      },
      "execution_count": 1,
      "outputs": [
        {
          "output_type": "stream",
          "name": "stdout",
          "text": [
            "Requirement already satisfied: rdflib in /usr/local/lib/python3.10/dist-packages (7.1.1)\n",
            "Requirement already satisfied: isodate<1.0.0,>=0.7.2 in /usr/local/lib/python3.10/dist-packages (from rdflib) (0.7.2)\n",
            "Requirement already satisfied: pyparsing<4,>=2.1.0 in /usr/local/lib/python3.10/dist-packages (from rdflib) (3.2.0)\n"
          ]
        }
      ]
    },
    {
      "cell_type": "markdown",
      "source": [
        "RDF GRaph"
      ],
      "metadata": {
        "id": "EF5WuA5uoJba"
      }
    },
    {
      "cell_type": "code",
      "execution_count": 1,
      "metadata": {
        "id": "FrWTxl4YoFjM",
        "colab": {
          "base_uri": "https://localhost:8080/",
          "height": 71
        },
        "outputId": "368e51fa-ef03-48a2-c0b7-1312273bafd5"
      },
      "outputs": [
        {
          "output_type": "stream",
          "name": "stderr",
          "text": [
            "<ipython-input-1-257d97776e00>:13: DeprecationWarning: ConjunctiveGraph is deprecated, use Dataset instead.\n",
            "  g = ConjunctiveGraph()\n"
          ]
        },
        {
          "output_type": "display_data",
          "data": {
            "text/plain": [
              "<IPython.core.display.Javascript object>"
            ],
            "application/javascript": [
              "\n",
              "    async function download(id, filename, size) {\n",
              "      if (!google.colab.kernel.accessAllowed) {\n",
              "        return;\n",
              "      }\n",
              "      const div = document.createElement('div');\n",
              "      const label = document.createElement('label');\n",
              "      label.textContent = `Downloading \"${filename}\": `;\n",
              "      div.appendChild(label);\n",
              "      const progress = document.createElement('progress');\n",
              "      progress.max = size;\n",
              "      div.appendChild(progress);\n",
              "      document.body.appendChild(div);\n",
              "\n",
              "      const buffers = [];\n",
              "      let downloaded = 0;\n",
              "\n",
              "      const channel = await google.colab.kernel.comms.open(id);\n",
              "      // Send a message to notify the kernel that we're ready.\n",
              "      channel.send({})\n",
              "\n",
              "      for await (const message of channel.messages) {\n",
              "        // Send a message to notify the kernel that we're ready.\n",
              "        channel.send({})\n",
              "        if (message.buffers) {\n",
              "          for (const buffer of message.buffers) {\n",
              "            buffers.push(buffer);\n",
              "            downloaded += buffer.byteLength;\n",
              "            progress.value = downloaded;\n",
              "          }\n",
              "        }\n",
              "      }\n",
              "      const blob = new Blob(buffers, {type: 'application/binary'});\n",
              "      const a = document.createElement('a');\n",
              "      a.href = window.URL.createObjectURL(blob);\n",
              "      a.download = filename;\n",
              "      div.appendChild(a);\n",
              "      a.click();\n",
              "      div.remove();\n",
              "    }\n",
              "  "
            ]
          },
          "metadata": {}
        },
        {
          "output_type": "display_data",
          "data": {
            "text/plain": [
              "<IPython.core.display.Javascript object>"
            ],
            "application/javascript": [
              "download(\"download_f1e874f8-400c-4d76-b515-3ef589c63f57\", \"fixed_output.nq\", 20177646)"
            ]
          },
          "metadata": {}
        },
        {
          "output_type": "stream",
          "name": "stdout",
          "text": [
            "Data saved as fixed_output.nq and ready for download.\n"
          ]
        }
      ],
      "source": [
        "from rdflib import ConjunctiveGraph, URIRef, Literal, Namespace\n",
        "from rdflib.namespace import RDF, RDFS\n",
        "from urllib.parse import quote\n",
        "import requests\n",
        "from google.colab import files\n",
        "\n",
        "# Fetch the JSON data\n",
        "url = \"https://raw.githubusercontent.com/baizhankyzy/female-directors/refs/heads/main/dataset.json\"\n",
        "response = requests.get(url)\n",
        "data = response.json()['results']['bindings']\n",
        "\n",
        "# Initialize the graph\n",
        "g = ConjunctiveGraph()\n",
        "\n",
        "# Define namespaces\n",
        "wd = Namespace(\"http://www.wikidata.org/entity/\")\n",
        "prop = Namespace(\"http://www.wikidata.org/prop/direct/\")\n",
        "ex = Namespace(\"http://example.org/\")\n",
        "\n",
        "# Add data to the graph without blank nodes\n",
        "for item in data:\n",
        "    film = URIRef(item['film']['value'])\n",
        "    director = URIRef(item['director']['value'])\n",
        "    release_date = Literal(item['releaseDate']['value'], datatype=RDFS.Literal)\n",
        "    film_label = Literal(item['filmLabel']['value'], lang='en')\n",
        "    director_label = Literal(item['directorLabel']['value'], lang='en')\n",
        "\n",
        "    genre_label = item.get('genreLabel', {}).get('value', \"Unknown Genre\")\n",
        "    genre_uri = URIRef(f\"http://example.org/genre/{quote(genre_label)}\")\n",
        "\n",
        "    country_label = item.get('countryLabel', {}).get('value', \"Unknown Country\")\n",
        "    country_uri = URIRef(f\"http://example.org/country/{quote(country_label)}\")\n",
        "\n",
        "    # Add RDF triples\n",
        "    g.add((film, RDF.type, wd.Q11424))  # Film type\n",
        "    g.add((film, RDFS.label, film_label))\n",
        "    g.add((film, prop.P57, director))\n",
        "    g.add((film, prop.P577, release_date))\n",
        "    g.add((film, prop.P136, genre_uri))\n",
        "    g.add((film, prop.P19, country_uri))\n",
        "    g.add((director, RDFS.label, director_label))\n",
        "    g.add((genre_uri, RDFS.label, Literal(genre_label, lang='en')))\n",
        "    g.add((country_uri, RDFS.label, Literal(country_label, lang='en')))\n",
        "\n",
        "# Serialize the graph\n",
        "output_file = \"fixed_output.nq\"\n",
        "g.serialize(output_file, format=\"nquads\")\n",
        "\n",
        "# Download the fixed file\n",
        "files.download(output_file)\n",
        "print(f\"Data saved as {output_file} and ready for download.\")"
      ]
    },
    {
      "cell_type": "markdown",
      "source": [
        "# Loading the graph"
      ],
      "metadata": {
        "id": "qfdssEQfprEe"
      }
    },
    {
      "cell_type": "code",
      "source": [
        "from rdflib import Dataset\n",
        "\n",
        "# Load the N-Quads file\n",
        "graph = Dataset()\n",
        "graph.parse(\"fixed_output.nq\", format=\"nquads\")\n",
        "print(f\"Graph loaded with {len(graph)} triples.\")"
      ],
      "metadata": {
        "colab": {
          "base_uri": "https://localhost:8080/"
        },
        "id": "-U5RLYN5p1sB",
        "outputId": "01244cce-2577-4be8-9eee-b7befdb3f87d"
      },
      "execution_count": 2,
      "outputs": [
        {
          "output_type": "stream",
          "name": "stdout",
          "text": [
            "Graph loaded with 119821 triples.\n"
          ]
        }
      ]
    },
    {
      "cell_type": "markdown",
      "source": [
        "## Research questions\n",
        "How has the number of women directors in feature films changed over the last 30 years, including fluctuations during specific periods and potential external factors such as societal events or industry shifts?\n"
      ],
      "metadata": {
        "id": "Bwq1Lc14LTvE"
      }
    },
    {
      "cell_type": "code",
      "source": [
        "query = \"\"\"\n",
        "SELECT ?film ?filmLabel ?director ?directorLabel\n",
        "WHERE {\n",
        "    ?film rdf:type <http://www.wikidata.org/entity/Q11424> ;\n",
        "          rdfs:label ?filmLabel ;\n",
        "          <http://www.wikidata.org/prop/direct/P57> ?director .\n",
        "    ?director rdfs:label ?directorLabel .\n",
        "}\n",
        "LIMIT 10\n",
        "\"\"\"\n",
        "results = g.query(query)\n",
        "\n",
        "for row in results:\n",
        "    print(f\"Film: {row['filmLabel']}, Director: {row['directorLabel']}\")"
      ],
      "metadata": {
        "colab": {
          "base_uri": "https://localhost:8080/"
        },
        "id": "dinBrbuOLY9x",
        "outputId": "2f86909b-2695-4ab8-eb66-94d8c409d660"
      },
      "execution_count": 3,
      "outputs": [
        {
          "output_type": "stream",
          "name": "stdout",
          "text": [
            "Film: Erotique, Director: Monika Treut\n",
            "Film: Erotique, Director: Lizzie Borden\n",
            "Film: Erotique, Director: Clara Law\n",
            "Film: Kommt Mausi raus?!, Director: Angelina Maccarone\n",
            "Film: Amigomío, Director: Jeanine Meerapfel\n",
            "Film: Lou n’a pas dit non, Director: Anne-Marie Miéville\n",
            "Film: Mixed Nuts, Director: Nora Ephron\n",
            "Film: Reunion, Director: Lee Grant\n",
            "Film: Seasons of the Heart, Director: Lee Grant\n",
            "Film: De Generazione, Director: Asia Argento\n"
          ]
        }
      ]
    },
    {
      "cell_type": "code",
      "source": [
        "query = \"\"\"\n",
        "SELECT ?filmLabel ?releaseDate\n",
        "WHERE {\n",
        "    ?film <http://www.wikidata.org/prop/direct/P577> ?releaseDate .\n",
        "\n",
        "    ?film rdfs:label ?filmLabel .\n",
        "    FILTER(LANG(?filmLabel) = \"en\")\n",
        "    FILTER(STR(?releaseDate) < \"2000-01-01T00:00:00Z\")\n",
        "}\n",
        "LIMIT 10\n",
        "\"\"\"\n",
        "results = g.query(query)\n",
        "\n",
        "for row in results:\n",
        "    print(f\"Film: {row['filmLabel']}, Release Date: {row['releaseDate']}\")"
      ],
      "metadata": {
        "colab": {
          "base_uri": "https://localhost:8080/"
        },
        "id": "SQ9_YsdSPTPX",
        "outputId": "58c080f2-955f-43a6-83fd-61a824f10ea3"
      },
      "execution_count": 6,
      "outputs": [
        {
          "output_type": "stream",
          "name": "stdout",
          "text": [
            "Film: Erotique, Release Date: 1994-01-01T00:00:00Z\n",
            "Film: Erotique, Release Date: 1994-09-12T00:00:00Z\n",
            "Film: Erotique, Release Date: 1994-09-30T00:00:00Z\n",
            "Film: Erotique, Release Date: 1994-10-27T00:00:00Z\n",
            "Film: Erotique, Release Date: 1995-01-20T00:00:00Z\n",
            "Film: Kommt Mausi raus?!, Release Date: 1994-01-01T00:00:00Z\n",
            "Film: Amigomío, Release Date: 1994-01-01T00:00:00Z\n",
            "Film: Amigomío, Release Date: 1995-06-08T00:00:00Z\n",
            "Film: Lou n’a pas dit non, Release Date: 1994-01-01T00:00:00Z\n",
            "Film: Mixed Nuts, Release Date: 1994-01-01T00:00:00Z\n"
          ]
        }
      ]
    }
  ]
}