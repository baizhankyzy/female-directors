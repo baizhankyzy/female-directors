{
  "nbformat": 4,
  "nbformat_minor": 0,
  "metadata": {
    "colab": {
      "provenance": [],
      "authorship_tag": "ABX9TyOSLUZiMgI6BTbxRG6ZGvGa",
      "include_colab_link": true
    },
    "kernelspec": {
      "name": "python3",
      "display_name": "Python 3"
    },
    "language_info": {
      "name": "python"
    }
  },
  "cells": [
    {
      "cell_type": "markdown",
      "metadata": {
        "id": "view-in-github",
        "colab_type": "text"
      },
      "source": [
        "<a href=\"https://colab.research.google.com/github/baizhankyzy/female-directors/blob/main/Project_new.ipynb\" target=\"_parent\"><img src=\"https://colab.research.google.com/assets/colab-badge.svg\" alt=\"Open In Colab\"/></a>"
      ]
    },
    {
      "cell_type": "code",
      "source": [],
      "metadata": {
        "id": "GI2WDBo_oUcl"
      },
      "execution_count": null,
      "outputs": []
    },
    {
      "cell_type": "markdown",
      "source": [
        "RDF GRaph"
      ],
      "metadata": {
        "id": "EF5WuA5uoJba"
      }
    },
    {
      "cell_type": "code",
      "execution_count": null,
      "metadata": {
        "id": "FrWTxl4YoFjM"
      },
      "outputs": [],
      "source": [
        "from rdflib import ConjunctiveGraph, URIRef, Literal, Namespace\n",
        "from rdflib.namespace import RDF, RDFS\n",
        "from google.colab import files\n",
        "import requests\n",
        "from urllib.parse import quote\n",
        "\n",
        "# Fetch JSON data\n",
        "url = \"https://raw.githubusercontent.com/baizhankyzy/female-directors/refs/heads/main/finaldataset.json\"\n",
        "response = requests.get(url)\n",
        "data = response.json()['results']['bindings']  # Access the bindings list\n",
        "\n",
        "# Initialize a ConjunctiveGraph\n",
        "g = ConjunctiveGraph()\n",
        "\n",
        "# Define namespaces\n",
        "wd = Namespace(\"http://www.wikidata.org/entity/\")\n",
        "schema = Namespace(\"http://schema.org/\")\n",
        "\n",
        "# Add data to the graph\n",
        "for item in data:\n",
        "    # Extract relevant details\n",
        "    film = URIRef(item['film']['value'])\n",
        "    director = URIRef(item['director']['value'])\n",
        "    release_date = Literal(item['releaseDate']['value'])\n",
        "\n",
        "    # Encode genre and country to ensure valid URIs\n",
        "    genre = item.get('genreLabel', {}).get('value', \"Unknown Genre\")\n",
        "    genre_uri = URIRef(f\"http://example.org/genre/{quote(genre)}\")\n",
        "\n",
        "    country = item.get('countryLabel', {}).get('value', \"Unknown Country\")\n",
        "    country_uri = URIRef(f\"http://example.org/country/{quote(country)}\")\n",
        "\n",
        "    # Add RDF triples\n",
        "    g.add((film, RDF.type, wd.Q11424))  # Film type\n",
        "    g.add((film, schema.director, director))\n",
        "    g.add((film, schema.releaseDate, release_date))\n",
        "    g.add((film, schema.genre, genre_uri))\n",
        "    g.add((film, schema.countryOfOrigin, country_uri))\n",
        "    g.add((genre_uri, RDFS.label, Literal(genre)))\n",
        "    g.add((country_uri, RDFS.label, Literal(country)))\n",
        "\n",
        "# Serialize the graph to N-Quads format\n",
        "output_file = \"output.nq\"\n",
        "g.serialize(output_file, format=\"nquads\")\n",
        "\n",
        "# Download the N-Quads file in Google Colab\n",
        "files.download(output_file)\n",
        "print(f\"Data saved as {output_file} and ready for download.\")"
      ]
    }
  ]
}