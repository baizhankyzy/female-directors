{
  "nbformat": 4,
  "nbformat_minor": 0,
  "metadata": {
    "colab": {
      "provenance": [],
      "authorship_tag": "ABX9TyNmR5TImYDZFJFCuqtLxdj4",
      "include_colab_link": true
    },
    "kernelspec": {
      "name": "python3",
      "display_name": "Python 3"
    },
    "language_info": {
      "name": "python"
    }
  },
  "cells": [
    {
      "cell_type": "markdown",
      "metadata": {
        "id": "view-in-github",
        "colab_type": "text"
      },
      "source": [
        "<a href=\"https://colab.research.google.com/github/baizhankyzy/female-directors/blob/main/project.ipynb\" target=\"_parent\"><img src=\"https://colab.research.google.com/assets/colab-badge.svg\" alt=\"Open In Colab\"/></a>"
      ]
    },
    {
      "cell_type": "markdown",
      "source": [
        "## Load and inspect data"
      ],
      "metadata": {
        "id": "ZdcnKVCsZVmn"
      }
    },
    {
      "cell_type": "code",
      "source": [
        "import requests\n",
        "import json\n",
        "\n",
        "# URL to your dataset\n",
        "url = \"https://raw.githubusercontent.com/baizhankyzy/female-directors/refs/heads/main/finaldataset.json\"\n",
        "\n",
        "# Fetch and parse the JSON data\n",
        "response = requests.get(url)\n",
        "data = response.json()  # Convert the JSON content into a Python object\n",
        "\n",
        "# Navigate to the relevant data\n",
        "items = data['results']['bindings']  # Access the list of film entries\n",
        "\n",
        "# Inspect the structure\n",
        "print(type(items))  # Should print <class 'list'>\n",
        "print(items[:3])    # Preview the first 3 records"
      ],
      "metadata": {
        "colab": {
          "base_uri": "https://localhost:8080/"
        },
        "id": "ngo4pnCKZoVa",
        "outputId": "b3542183-425f-4da0-e97b-1f8f875e9581"
      },
      "execution_count": 4,
      "outputs": [
        {
          "output_type": "stream",
          "name": "stdout",
          "text": [
            "<class 'list'>\n",
            "[{'director': {'type': 'uri', 'value': 'http://www.wikidata.org/entity/Q55418'}, 'directorLabel': {'xml:lang': 'en', 'type': 'literal', 'value': 'Margarethe von Trotta'}, 'film': {'type': 'uri', 'value': 'http://www.wikidata.org/entity/Q325355'}, 'filmLabel': {'xml:lang': 'en', 'type': 'literal', 'value': 'The Promise'}, 'releaseDate': {'datatype': 'http://www.w3.org/2001/XMLSchema#dateTime', 'type': 'literal', 'value': '1994-01-01T00:00:00Z'}, 'genreLabel': {'xml:lang': 'en', 'type': 'literal', 'value': 'drama film'}, 'countryLabel': {'xml:lang': 'en', 'type': 'literal', 'value': 'Switzerland'}}, {'director': {'type': 'uri', 'value': 'http://www.wikidata.org/entity/Q55418'}, 'directorLabel': {'xml:lang': 'en', 'type': 'literal', 'value': 'Margarethe von Trotta'}, 'film': {'type': 'uri', 'value': 'http://www.wikidata.org/entity/Q325355'}, 'filmLabel': {'xml:lang': 'en', 'type': 'literal', 'value': 'The Promise'}, 'releaseDate': {'datatype': 'http://www.w3.org/2001/XMLSchema#dateTime', 'type': 'literal', 'value': '1994-01-01T00:00:00Z'}, 'genreLabel': {'xml:lang': 'en', 'type': 'literal', 'value': 'comedy drama'}, 'countryLabel': {'xml:lang': 'en', 'type': 'literal', 'value': 'Switzerland'}}, {'director': {'type': 'uri', 'value': 'http://www.wikidata.org/entity/Q55418'}, 'directorLabel': {'xml:lang': 'en', 'type': 'literal', 'value': 'Margarethe von Trotta'}, 'film': {'type': 'uri', 'value': 'http://www.wikidata.org/entity/Q325355'}, 'filmLabel': {'xml:lang': 'en', 'type': 'literal', 'value': 'The Promise'}, 'releaseDate': {'datatype': 'http://www.w3.org/2001/XMLSchema#dateTime', 'type': 'literal', 'value': '1994-01-01T00:00:00Z'}, 'genreLabel': {'xml:lang': 'en', 'type': 'literal', 'value': 'drama film'}, 'countryLabel': {'xml:lang': 'en', 'type': 'literal', 'value': 'France'}}]\n"
          ]
        }
      ]
    },
    {
      "cell_type": "markdown",
      "source": [
        "## Iterate Over the Data\n",
        "Update your loop to iterate through the items list:"
      ],
      "metadata": {
        "id": "NenrwodvbZaC"
      }
    },
    {
      "cell_type": "code",
      "source": [
        "for item in items:\n",
        "    # Extract relevant details\n",
        "    film = item['film']['value']\n",
        "    director = item['director']['value']\n",
        "    release_date = item['releaseDate']['value']\n",
        "    genre_label = item.get('genreLabel', {}).get('value', None)  # Optional field\n",
        "    country_label = item.get('countryLabel', {}).get('value', None)  # Optional field\n",
        "\n",
        "    # Print for verification\n",
        "    print(f\"Film: {film}, Director: {director}, Release Date: {release_date}, Genre: {genre_label}, Country: {country_label}\")"
      ],
      "metadata": {
        "id": "qQWHZNPYbl71"
      },
      "execution_count": null,
      "outputs": []
    },
    {
      "cell_type": "markdown",
      "source": [
        "## RDF Graph creation"
      ],
      "metadata": {
        "id": "QolJCAa2bvMx"
      }
    },
    {
      "cell_type": "code",
      "source": [
        "from rdflib import Graph, URIRef, Literal, Namespace\n",
        "from rdflib.namespace import RDF, RDFS\n",
        "\n",
        "g = Graph()\n",
        "\n",
        "for item in items:\n",
        "    # Create RDF entities\n",
        "    film_uri = URIRef(item['film']['value'])\n",
        "    director_uri = URIRef(item['director']['value'])\n",
        "    release_date = Literal(item['releaseDate']['value'])\n",
        "    genre_label = Literal(item['genreLabel']['value']) if 'genreLabel' in item else None\n",
        "    country_label = Literal(item['countryLabel']['value']) if 'countryLabel' in item else None\n",
        "\n",
        "    # Add triples to the RDF graph\n",
        "    g.add((film_uri, RDF.type, URIRef(\"http://www.wikidata.org/entity/Q11424\")))  # Film type\n",
        "    g.add((film_uri, URIRef(\"http://schema.org/director\"), director_uri))\n",
        "    g.add((film_uri, URIRef(\"http://schema.org/releaseDate\"), release_date))\n",
        "    if genre_label:\n",
        "        g.add((film_uri, URIRef(\"http://schema.org/genre\"), genre_label))\n",
        "    if country_label:\n",
        "        g.add((film_uri, URIRef(\"http://schema.org/countryOfOrigin\"), country_label))\n",
        "\n",
        "# Serialize the graph\n",
        "g.serialize(\"output.rdf\", format=\"xml\")"
      ],
      "metadata": {
        "colab": {
          "base_uri": "https://localhost:8080/"
        },
        "id": "NzuflEtabvwh",
        "outputId": "a94b8473-142b-4af7-b722-4656ec716c50"
      },
      "execution_count": 6,
      "outputs": [
        {
          "output_type": "execute_result",
          "data": {
            "text/plain": [
              "<Graph identifier=N0ca8c3e9fb7349f083ca3bebb72acc94 (<class 'rdflib.graph.Graph'>)>"
            ]
          },
          "metadata": {},
          "execution_count": 6
        }
      ]
    },
    {
      "cell_type": "markdown",
      "source": [
        "## Download the RDF File (Google Colab)"
      ],
      "metadata": {
        "id": "CA_ivYOrcdWB"
      }
    },
    {
      "cell_type": "code",
      "source": [
        "from google.colab import files\n",
        "files.download(\"output.rdf\")"
      ],
      "metadata": {
        "colab": {
          "base_uri": "https://localhost:8080/",
          "height": 17
        },
        "id": "qpYI_LXHciux",
        "outputId": "6756603c-e8bd-4fed-a5d3-e7011ec5a9d4"
      },
      "execution_count": 7,
      "outputs": [
        {
          "output_type": "display_data",
          "data": {
            "text/plain": [
              "<IPython.core.display.Javascript object>"
            ],
            "application/javascript": [
              "\n",
              "    async function download(id, filename, size) {\n",
              "      if (!google.colab.kernel.accessAllowed) {\n",
              "        return;\n",
              "      }\n",
              "      const div = document.createElement('div');\n",
              "      const label = document.createElement('label');\n",
              "      label.textContent = `Downloading \"${filename}\": `;\n",
              "      div.appendChild(label);\n",
              "      const progress = document.createElement('progress');\n",
              "      progress.max = size;\n",
              "      div.appendChild(progress);\n",
              "      document.body.appendChild(div);\n",
              "\n",
              "      const buffers = [];\n",
              "      let downloaded = 0;\n",
              "\n",
              "      const channel = await google.colab.kernel.comms.open(id);\n",
              "      // Send a message to notify the kernel that we're ready.\n",
              "      channel.send({})\n",
              "\n",
              "      for await (const message of channel.messages) {\n",
              "        // Send a message to notify the kernel that we're ready.\n",
              "        channel.send({})\n",
              "        if (message.buffers) {\n",
              "          for (const buffer of message.buffers) {\n",
              "            buffers.push(buffer);\n",
              "            downloaded += buffer.byteLength;\n",
              "            progress.value = downloaded;\n",
              "          }\n",
              "        }\n",
              "      }\n",
              "      const blob = new Blob(buffers, {type: 'application/binary'});\n",
              "      const a = document.createElement('a');\n",
              "      a.href = window.URL.createObjectURL(blob);\n",
              "      a.download = filename;\n",
              "      div.appendChild(a);\n",
              "      a.click();\n",
              "      div.remove();\n",
              "    }\n",
              "  "
            ]
          },
          "metadata": {}
        },
        {
          "output_type": "display_data",
          "data": {
            "text/plain": [
              "<IPython.core.display.Javascript object>"
            ],
            "application/javascript": [
              "download(\"download_e5853429-13df-4f26-8919-762f36ef3626\", \"output.rdf\", 7199052)"
            ]
          },
          "metadata": {}
        }
      ]
    },
    {
      "cell_type": "markdown",
      "source": [
        "## Stages of EDA"
      ],
      "metadata": {
        "id": "Rk_VaI0LE731"
      }
    },
    {
      "cell_type": "markdown",
      "source": [
        "Parsing JSON to RDF"
      ],
      "metadata": {
        "id": "fckO5znAXTsc"
      }
    },
    {
      "cell_type": "markdown",
      "source": [
        "## Filter"
      ],
      "metadata": {
        "id": "7-i31vCzYBh5"
      }
    },
    {
      "cell_type": "code",
      "source": [
        "# Query the graph\n",
        "query_films_before_2000 = g.query(\n",
        "    \"\"\"\n",
        "    SELECT ?filmLabel ?releaseDate\n",
        "    WHERE {\n",
        "        ?film rdfs:label ?filmLabel ;\n",
        "              <http://www.wikidata.org/prop/direct/P577> ?releaseDate .\n",
        "        FILTER (STR(?releaseDate) < \"2000-01-01T00:00:00Z\")\n",
        "    }\n",
        "    ORDER BY ?releaseDate\n",
        "    LIMIT 10\n",
        "    \"\"\"\n",
        ")\n",
        "\n",
        "# Print the results\n",
        "for film_label, release_date in query_films_before_2000:\n",
        "    print(f\"{film_label} - {release_date}\")"
      ],
      "metadata": {
        "id": "dlcdHoBEa8sU",
        "outputId": "9de4fd7c-3f94-4728-badf-badef24baeae",
        "colab": {
          "base_uri": "https://localhost:8080/"
        }
      },
      "execution_count": null,
      "outputs": [
        {
          "output_type": "stream",
          "name": "stdout",
          "text": [
            "Renaissance Man - 1994-01-01T00:00:00Z\n",
            "The Promise - 1994-01-01T00:00:00Z\n",
            "Black Beauty - 1994-01-01T00:00:00Z\n",
            "Priest - 1994-01-01T00:00:00Z\n",
            "The Little Rascals - 1994-01-01T00:00:00Z\n",
            "Corrina, Corrina - 1994-01-01T00:00:00Z\n",
            "I Like It Like That - 1994-01-01T00:00:00Z\n",
            "Embrace of the Vampire - 1994-01-01T00:00:00Z\n",
            "Kommt Mausi raus?! - 1994-01-01T00:00:00Z\n",
            "Dreamplay - 1994-01-01T00:00:00Z\n"
          ]
        }
      ]
    },
    {
      "cell_type": "code",
      "source": [],
      "metadata": {
        "id": "LfLgDZNJFTWY"
      },
      "execution_count": null,
      "outputs": []
    }
  ]
}